{
 "cells": [
  {
   "cell_type": "code",
   "execution_count": 1,
   "id": "6b75bf60-af5a-4a23-9266-464eb4e06e0e",
   "metadata": {},
   "outputs": [
    {
     "name": "stdout",
     "output_type": "stream",
     "text": [
      "    Name  Math  Science  English\n",
      "0  Alice    80       92       85\n",
      "1    Bob    78       80       88\n",
      "2  James    92       77       94\n"
     ]
    }
   ],
   "source": [
    "import pandas as pd\n",
    "\n",
    "#Sample Dataframe\n",
    "data = {\n",
    "    'Name': ['Alice', 'Bob', 'James'],\n",
    "    'Math': [80, 78, 92],\n",
    "    'Science': [92, 80, 77],\n",
    "    'English': [85, 88, 94]\n",
    "}\n",
    "\n",
    "df = pd.DataFrame(data)\n",
    "\n",
    "print(df)"
   ]
  },
  {
   "cell_type": "code",
   "execution_count": 13,
   "id": "05e92c86-c668-4f06-9a6b-13876fb4410c",
   "metadata": {},
   "outputs": [
    {
     "name": "stdout",
     "output_type": "stream",
     "text": [
      "    Name  Subject  Score\n",
      "0  Alice     Math     80\n",
      "1    Bob     Math     78\n",
      "2  James     Math     92\n",
      "3  Alice  Science     92\n",
      "4    Bob  Science     80\n",
      "5  James  Science     77\n",
      "6  Alice  English     85\n",
      "7    Bob  English     88\n",
      "8  James  English     94\n"
     ]
    }
   ],
   "source": [
    "df_melted = df.melt(id_vars=[\"Name\"], \n",
    "                    value_vars=[\"Math\", \"Science\", \"English\"], \n",
    "                    var_name=\"Subject\", \n",
    "                    value_name=\"Score\")\n",
    "print(df_melted)"
   ]
  },
  {
   "cell_type": "code",
   "execution_count": 14,
   "id": "931c8e0a-7ed6-437f-88e6-a77a8d9dd046",
   "metadata": {},
   "outputs": [
    {
     "name": "stdout",
     "output_type": "stream",
     "text": [
      "Subject  English  Math  Science\n",
      "Name                           \n",
      "Alice       85.0  80.0     92.0\n",
      "Bob         88.0  78.0     80.0\n",
      "James       94.0  92.0     77.0\n"
     ]
    }
   ],
   "source": [
    "pivoted_df = df_melted.pivot_table(index=\"Name\", columns=\"Subject\", values=\"Score\", aggfunc=\"mean\")\n",
    "print(pivoted_df)"
   ]
  }
 ],
 "metadata": {
  "kernelspec": {
   "display_name": "Python 3 (ipykernel)",
   "language": "python",
   "name": "python3"
  },
  "language_info": {
   "codemirror_mode": {
    "name": "ipython",
    "version": 3
   },
   "file_extension": ".py",
   "mimetype": "text/x-python",
   "name": "python",
   "nbconvert_exporter": "python",
   "pygments_lexer": "ipython3",
   "version": "3.11.7"
  }
 },
 "nbformat": 4,
 "nbformat_minor": 5
}
